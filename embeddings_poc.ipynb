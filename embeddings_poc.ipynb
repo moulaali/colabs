{
  "nbformat": 4,
  "nbformat_minor": 0,
  "metadata": {
    "colab": {
      "provenance": [],
      "authorship_tag": "ABX9TyM6sABKnl/5M0pr+4jnMzx7",
      "include_colab_link": true
    },
    "kernelspec": {
      "name": "python3",
      "display_name": "Python 3"
    },
    "language_info": {
      "name": "python"
    }
  },
  "cells": [
    {
      "cell_type": "markdown",
      "metadata": {
        "id": "view-in-github",
        "colab_type": "text"
      },
      "source": [
        "<a href=\"https://colab.research.google.com/github/moulaali/colabs/blob/main/embeddings_poc.ipynb\" target=\"_parent\"><img src=\"https://colab.research.google.com/assets/colab-badge.svg\" alt=\"Open In Colab\"/></a>"
      ]
    },
    {
      "cell_type": "code",
      "source": [
        "!pip install langchain\n",
        "!pip install openai\n",
        "!pip install langchain_decorators"
      ],
      "metadata": {
        "id": "pLWQKiVSNkoc"
      },
      "execution_count": null,
      "outputs": []
    },
    {
      "cell_type": "code",
      "source": [
        "from google.colab import userdata\n",
        "import os\n",
        "os.environ[\"OPENAI_API_KEY\"] = userdata.get('OPENAI_API_KEY')\n",
        "os.environ[\"HF_TOKEN\"] = userdata.get('HF_TOKEN')"
      ],
      "metadata": {
        "id": "GxK-WVSLNnb8"
      },
      "execution_count": 15,
      "outputs": []
    },
    {
      "cell_type": "code",
      "execution_count": 3,
      "metadata": {
        "colab": {
          "base_uri": "https://localhost:8080/"
        },
        "id": "w-crbKw5NLPb",
        "outputId": "7836df5d-7640-4ce8-b3f3-e721e20eb004"
      },
      "outputs": [
        {
          "output_type": "stream",
          "name": "stderr",
          "text": [
            "/usr/local/lib/python3.10/dist-packages/langchain_core/_api/deprecation.py:119: LangChainDeprecationWarning: The class `OpenAIEmbeddings` was deprecated in LangChain 0.0.9 and will be removed in 0.3.0. An updated version of the class exists in the langchain-openai package and should be used instead. To use it run `pip install -U langchain-openai` and import as `from langchain_openai import OpenAIEmbeddings`.\n",
            "  warn_deprecated(\n"
          ]
        }
      ],
      "source": [
        "from langchain.embeddings.openai import OpenAIEmbeddings\n",
        "words = [\"cat\", \"dog\", \"computer\", \"programmer\", \"doctor\", \"hospital\"]\n",
        "embeddings = OpenAIEmbeddings()\n",
        "doc_vectors = embeddings.embed_documents(words)"
      ]
    },
    {
      "cell_type": "markdown",
      "source": [
        "#Compute pair-wise cosine similarity"
      ],
      "metadata": {
        "id": "0fkfAlP2PVto"
      }
    },
    {
      "cell_type": "code",
      "source": [
        "from scipy.spatial.distance import pdist, squareform\n",
        "from scipy.spatial.distance import cosine\n",
        "\n",
        "import numpy as np\n",
        "import pandas as pd\n",
        "X = np.array(doc_vectors)\n",
        "\n",
        "cosine_distances = pdist(X, 'cosine')\n",
        "cosine_similarities = 1 - cosine_distances\n",
        "similarity_matrix = squareform(cosine_similarities)\n",
        "\n",
        "df = pd.DataFrame(\n",
        "    data=similarity_matrix,\n",
        "    index=words,\n",
        "    columns=words\n",
        ")\n",
        "df.style.background_gradient(cmap='coolwarm')"
      ],
      "metadata": {
        "colab": {
          "base_uri": "https://localhost:8080/",
          "height": 237
        },
        "id": "_CEzGxbMODbm",
        "outputId": "3fbaca3a-69df-402f-eb49-2a2178f66d57"
      },
      "execution_count": 8,
      "outputs": [
        {
          "output_type": "execute_result",
          "data": {
            "text/plain": [
              "<pandas.io.formats.style.Styler at 0x7d30c7af3880>"
            ],
            "text/html": [
              "<style type=\"text/css\">\n",
              "#T_073bb_row0_col0, #T_073bb_row1_col1, #T_073bb_row2_col2, #T_073bb_row3_col3, #T_073bb_row4_col4, #T_073bb_row5_col5 {\n",
              "  background-color: #3b4cc0;\n",
              "  color: #f1f1f1;\n",
              "}\n",
              "#T_073bb_row0_col1, #T_073bb_row1_col0, #T_073bb_row2_col3, #T_073bb_row3_col2, #T_073bb_row4_col5, #T_073bb_row5_col4 {\n",
              "  background-color: #b40426;\n",
              "  color: #f1f1f1;\n",
              "}\n",
              "#T_073bb_row0_col2, #T_073bb_row1_col4, #T_073bb_row5_col2 {\n",
              "  background-color: #b50927;\n",
              "  color: #f1f1f1;\n",
              "}\n",
              "#T_073bb_row0_col3 {\n",
              "  background-color: #d0473d;\n",
              "  color: #f1f1f1;\n",
              "}\n",
              "#T_073bb_row0_col4 {\n",
              "  background-color: #c32e31;\n",
              "  color: #f1f1f1;\n",
              "}\n",
              "#T_073bb_row0_col5 {\n",
              "  background-color: #c83836;\n",
              "  color: #f1f1f1;\n",
              "}\n",
              "#T_073bb_row1_col2 {\n",
              "  background-color: #b70d28;\n",
              "  color: #f1f1f1;\n",
              "}\n",
              "#T_073bb_row1_col3, #T_073bb_row5_col1 {\n",
              "  background-color: #c43032;\n",
              "  color: #f1f1f1;\n",
              "}\n",
              "#T_073bb_row1_col5, #T_073bb_row4_col1 {\n",
              "  background-color: #bd1f2d;\n",
              "  color: #f1f1f1;\n",
              "}\n",
              "#T_073bb_row2_col0, #T_073bb_row2_col4 {\n",
              "  background-color: #c0282f;\n",
              "  color: #f1f1f1;\n",
              "}\n",
              "#T_073bb_row2_col1 {\n",
              "  background-color: #c12b30;\n",
              "  color: #f1f1f1;\n",
              "}\n",
              "#T_073bb_row2_col5 {\n",
              "  background-color: #ba162b;\n",
              "  color: #f1f1f1;\n",
              "}\n",
              "#T_073bb_row3_col0 {\n",
              "  background-color: #d75445;\n",
              "  color: #f1f1f1;\n",
              "}\n",
              "#T_073bb_row3_col1, #T_073bb_row3_col4 {\n",
              "  background-color: #cd423b;\n",
              "  color: #f1f1f1;\n",
              "}\n",
              "#T_073bb_row3_col5, #T_073bb_row4_col0, #T_073bb_row4_col3 {\n",
              "  background-color: #ca3b37;\n",
              "  color: #f1f1f1;\n",
              "}\n",
              "#T_073bb_row4_col2 {\n",
              "  background-color: #bb1b2c;\n",
              "  color: #f1f1f1;\n",
              "}\n",
              "#T_073bb_row5_col0 {\n",
              "  background-color: #cf453c;\n",
              "  color: #f1f1f1;\n",
              "}\n",
              "#T_073bb_row5_col3 {\n",
              "  background-color: #c53334;\n",
              "  color: #f1f1f1;\n",
              "}\n",
              "</style>\n",
              "<table id=\"T_073bb\" class=\"dataframe\">\n",
              "  <thead>\n",
              "    <tr>\n",
              "      <th class=\"blank level0\" >&nbsp;</th>\n",
              "      <th id=\"T_073bb_level0_col0\" class=\"col_heading level0 col0\" >cat</th>\n",
              "      <th id=\"T_073bb_level0_col1\" class=\"col_heading level0 col1\" >dog</th>\n",
              "      <th id=\"T_073bb_level0_col2\" class=\"col_heading level0 col2\" >computer</th>\n",
              "      <th id=\"T_073bb_level0_col3\" class=\"col_heading level0 col3\" >programmer</th>\n",
              "      <th id=\"T_073bb_level0_col4\" class=\"col_heading level0 col4\" >doctor</th>\n",
              "      <th id=\"T_073bb_level0_col5\" class=\"col_heading level0 col5\" >hospital</th>\n",
              "    </tr>\n",
              "  </thead>\n",
              "  <tbody>\n",
              "    <tr>\n",
              "      <th id=\"T_073bb_level0_row0\" class=\"row_heading level0 row0\" >cat</th>\n",
              "      <td id=\"T_073bb_row0_col0\" class=\"data row0 col0\" >0.000000</td>\n",
              "      <td id=\"T_073bb_row0_col1\" class=\"data row0 col1\" >0.862957</td>\n",
              "      <td id=\"T_073bb_row0_col2\" class=\"data row0 col2\" >0.833833</td>\n",
              "      <td id=\"T_073bb_row0_col3\" class=\"data row0 col3\" >0.771986</td>\n",
              "      <td id=\"T_073bb_row0_col4\" class=\"data row0 col4\" >0.812342</td>\n",
              "      <td id=\"T_073bb_row0_col5\" class=\"data row0 col5\" >0.798822</td>\n",
              "    </tr>\n",
              "    <tr>\n",
              "      <th id=\"T_073bb_level0_row1\" class=\"row_heading level0 row1\" >dog</th>\n",
              "      <td id=\"T_073bb_row1_col0\" class=\"data row1 col0\" >0.862957</td>\n",
              "      <td id=\"T_073bb_row1_col1\" class=\"data row1 col1\" >0.000000</td>\n",
              "      <td id=\"T_073bb_row1_col2\" class=\"data row1 col2\" >0.829517</td>\n",
              "      <td id=\"T_073bb_row1_col3\" class=\"data row1 col3\" >0.801215</td>\n",
              "      <td id=\"T_073bb_row1_col4\" class=\"data row1 col4\" >0.841048</td>\n",
              "      <td id=\"T_073bb_row1_col5\" class=\"data row1 col5\" >0.824644</td>\n",
              "    </tr>\n",
              "    <tr>\n",
              "      <th id=\"T_073bb_level0_row2\" class=\"row_heading level0 row2\" >computer</th>\n",
              "      <td id=\"T_073bb_row2_col0\" class=\"data row2 col0\" >0.833833</td>\n",
              "      <td id=\"T_073bb_row2_col1\" class=\"data row2 col1\" >0.829517</td>\n",
              "      <td id=\"T_073bb_row2_col2\" class=\"data row2 col2\" >0.000000</td>\n",
              "      <td id=\"T_073bb_row2_col3\" class=\"data row2 col3\" >0.838097</td>\n",
              "      <td id=\"T_073bb_row2_col4\" class=\"data row2 col4\" >0.818652</td>\n",
              "      <td id=\"T_073bb_row2_col5\" class=\"data row2 col5\" >0.832025</td>\n",
              "    </tr>\n",
              "    <tr>\n",
              "      <th id=\"T_073bb_level0_row3\" class=\"row_heading level0 row3\" >programmer</th>\n",
              "      <td id=\"T_073bb_row3_col0\" class=\"data row3 col0\" >0.771986</td>\n",
              "      <td id=\"T_073bb_row3_col1\" class=\"data row3 col1\" >0.801215</td>\n",
              "      <td id=\"T_073bb_row3_col2\" class=\"data row3 col2\" >0.838097</td>\n",
              "      <td id=\"T_073bb_row3_col3\" class=\"data row3 col3\" >0.000000</td>\n",
              "      <td id=\"T_073bb_row3_col4\" class=\"data row3 col4\" >0.786373</td>\n",
              "      <td id=\"T_073bb_row3_col5\" class=\"data row3 col5\" >0.796509</td>\n",
              "    </tr>\n",
              "    <tr>\n",
              "      <th id=\"T_073bb_level0_row4\" class=\"row_heading level0 row4\" >doctor</th>\n",
              "      <td id=\"T_073bb_row4_col0\" class=\"data row4 col0\" >0.812342</td>\n",
              "      <td id=\"T_073bb_row4_col1\" class=\"data row4 col1\" >0.841048</td>\n",
              "      <td id=\"T_073bb_row4_col2\" class=\"data row4 col2\" >0.818652</td>\n",
              "      <td id=\"T_073bb_row4_col3\" class=\"data row4 col3\" >0.786373</td>\n",
              "      <td id=\"T_073bb_row4_col4\" class=\"data row4 col4\" >0.000000</td>\n",
              "      <td id=\"T_073bb_row4_col5\" class=\"data row4 col5\" >0.846279</td>\n",
              "    </tr>\n",
              "    <tr>\n",
              "      <th id=\"T_073bb_level0_row5\" class=\"row_heading level0 row5\" >hospital</th>\n",
              "      <td id=\"T_073bb_row5_col0\" class=\"data row5 col0\" >0.798822</td>\n",
              "      <td id=\"T_073bb_row5_col1\" class=\"data row5 col1\" >0.824644</td>\n",
              "      <td id=\"T_073bb_row5_col2\" class=\"data row5 col2\" >0.832025</td>\n",
              "      <td id=\"T_073bb_row5_col3\" class=\"data row5 col3\" >0.796509</td>\n",
              "      <td id=\"T_073bb_row5_col4\" class=\"data row5 col4\" >0.846279</td>\n",
              "      <td id=\"T_073bb_row5_col5\" class=\"data row5 col5\" >0.000000</td>\n",
              "    </tr>\n",
              "  </tbody>\n",
              "</table>\n"
            ]
          },
          "metadata": {},
          "execution_count": 8
        }
      ]
    },
    {
      "cell_type": "markdown",
      "source": [
        "#Try with hugging face embeddings"
      ],
      "metadata": {
        "id": "IQ6FxAzwP3cT"
      }
    },
    {
      "cell_type": "code",
      "source": [
        "import requests\n",
        "\n",
        "# Leaderboard: Massive Text Embedding Benchmark (MTEB) Leaderboard : https://huggingface.co/spaces/mteb/leaderboard\n",
        "model_id = \"SFR-Embedding-Mistral\"\n",
        "HF_TOKEN = userdata.get('HF_TOKEN')\n",
        "\n",
        "api_url = f\"https://api-inference.huggingface.co/pipeline/feature-extraction/{model_id}\"\n",
        "headers = {\"Authorization\": f\"Bearer {HF_TOKEN}\"}"
      ],
      "metadata": {
        "id": "ZbXIeSJwTvpZ"
      },
      "execution_count": 25,
      "outputs": []
    },
    {
      "cell_type": "code",
      "source": [
        "def query(texts):\n",
        "    response = requests.post(api_url, headers=headers, json={\"inputs\": texts, \"options\":{\"wait_for_model\":True}})\n",
        "    return response.json()"
      ],
      "metadata": {
        "id": "Ok_2-LO7UTDt"
      },
      "execution_count": 26,
      "outputs": []
    },
    {
      "cell_type": "code",
      "source": [
        "import pandas as pd\n",
        "\n",
        "words = [\"king\", \"castle\", \"family\", \"kids\", \"sports\", \"ball\"]\n",
        "\n",
        "hf_embeddings = query(words)\n",
        "embeddings = pd.DataFrame(output)\n",
        "embeddings"
      ],
      "metadata": {
        "id": "hZp4aMyZUa5_"
      },
      "execution_count": null,
      "outputs": []
    },
    {
      "cell_type": "code",
      "source": [
        "from scipy.spatial.distance import pdist, squareform\n",
        "from scipy.spatial.distance import cosine\n",
        "\n",
        "import numpy as np\n",
        "import pandas as pd\n",
        "X = np.array(embeddings)\n",
        "\n",
        "cosine_distances = pdist(X, 'cosine')\n",
        "cosine_similarities = 1 - cosine_distances\n",
        "similarity_matrix = squareform(cosine_similarities)\n",
        "\n",
        "df = pd.DataFrame(\n",
        "    data=similarity_matrix,\n",
        "    index=words,\n",
        "    columns=words\n",
        ")\n",
        "df.style.background_gradient(cmap='coolwarm')"
      ],
      "metadata": {
        "colab": {
          "base_uri": "https://localhost:8080/",
          "height": 237
        },
        "id": "hwA5t_7OUrEN",
        "outputId": "11cba1e3-6c76-476c-a890-95c0db497fdc"
      },
      "execution_count": 30,
      "outputs": [
        {
          "output_type": "execute_result",
          "data": {
            "text/plain": [
              "<pandas.io.formats.style.Styler at 0x7d308a18ae30>"
            ],
            "text/html": [
              "<style type=\"text/css\">\n",
              "#T_8aeff_row0_col0, #T_8aeff_row1_col1, #T_8aeff_row2_col2, #T_8aeff_row3_col3, #T_8aeff_row4_col4, #T_8aeff_row5_col5 {\n",
              "  background-color: #3b4cc0;\n",
              "  color: #f1f1f1;\n",
              "}\n",
              "#T_8aeff_row0_col1, #T_8aeff_row1_col0, #T_8aeff_row2_col3, #T_8aeff_row3_col2, #T_8aeff_row4_col5, #T_8aeff_row5_col4 {\n",
              "  background-color: #b40426;\n",
              "  color: #f1f1f1;\n",
              "}\n",
              "#T_8aeff_row0_col2, #T_8aeff_row4_col2 {\n",
              "  background-color: #f29072;\n",
              "  color: #f1f1f1;\n",
              "}\n",
              "#T_8aeff_row0_col3 {\n",
              "  background-color: #f6bda2;\n",
              "  color: #000000;\n",
              "}\n",
              "#T_8aeff_row0_col4 {\n",
              "  background-color: #f7b396;\n",
              "  color: #000000;\n",
              "}\n",
              "#T_8aeff_row0_col5 {\n",
              "  background-color: #cdd9ec;\n",
              "  color: #000000;\n",
              "}\n",
              "#T_8aeff_row1_col2 {\n",
              "  background-color: #ee8468;\n",
              "  color: #f1f1f1;\n",
              "}\n",
              "#T_8aeff_row1_col3 {\n",
              "  background-color: #e6d7cf;\n",
              "  color: #000000;\n",
              "}\n",
              "#T_8aeff_row1_col4 {\n",
              "  background-color: #f7b79b;\n",
              "  color: #000000;\n",
              "}\n",
              "#T_8aeff_row1_col5 {\n",
              "  background-color: #d3dbe7;\n",
              "  color: #000000;\n",
              "}\n",
              "#T_8aeff_row2_col0 {\n",
              "  background-color: #f4c6af;\n",
              "  color: #000000;\n",
              "}\n",
              "#T_8aeff_row2_col1 {\n",
              "  background-color: #f6bfa6;\n",
              "  color: #000000;\n",
              "}\n",
              "#T_8aeff_row2_col4 {\n",
              "  background-color: #f7b194;\n",
              "  color: #000000;\n",
              "}\n",
              "#T_8aeff_row2_col5 {\n",
              "  background-color: #dfdbd9;\n",
              "  color: #000000;\n",
              "}\n",
              "#T_8aeff_row3_col0 {\n",
              "  background-color: #e2dad5;\n",
              "  color: #000000;\n",
              "}\n",
              "#T_8aeff_row3_col1 {\n",
              "  background-color: #cad8ef;\n",
              "  color: #000000;\n",
              "}\n",
              "#T_8aeff_row3_col4 {\n",
              "  background-color: #efcfbf;\n",
              "  color: #000000;\n",
              "}\n",
              "#T_8aeff_row3_col5 {\n",
              "  background-color: #a2c1ff;\n",
              "  color: #000000;\n",
              "}\n",
              "#T_8aeff_row4_col0 {\n",
              "  background-color: #f3c7b1;\n",
              "  color: #000000;\n",
              "}\n",
              "#T_8aeff_row4_col1 {\n",
              "  background-color: #f2cab5;\n",
              "  color: #000000;\n",
              "}\n",
              "#T_8aeff_row4_col3 {\n",
              "  background-color: #f7bca1;\n",
              "  color: #000000;\n",
              "}\n",
              "#T_8aeff_row5_col0 {\n",
              "  background-color: #c0d4f5;\n",
              "  color: #000000;\n",
              "}\n",
              "#T_8aeff_row5_col1 {\n",
              "  background-color: #c5d6f2;\n",
              "  color: #000000;\n",
              "}\n",
              "#T_8aeff_row5_col2 {\n",
              "  background-color: #eed0c0;\n",
              "  color: #000000;\n",
              "}\n",
              "#T_8aeff_row5_col3 {\n",
              "  background-color: #afcafc;\n",
              "  color: #000000;\n",
              "}\n",
              "</style>\n",
              "<table id=\"T_8aeff\" class=\"dataframe\">\n",
              "  <thead>\n",
              "    <tr>\n",
              "      <th class=\"blank level0\" >&nbsp;</th>\n",
              "      <th id=\"T_8aeff_level0_col0\" class=\"col_heading level0 col0\" >king</th>\n",
              "      <th id=\"T_8aeff_level0_col1\" class=\"col_heading level0 col1\" >castle</th>\n",
              "      <th id=\"T_8aeff_level0_col2\" class=\"col_heading level0 col2\" >family</th>\n",
              "      <th id=\"T_8aeff_level0_col3\" class=\"col_heading level0 col3\" >kids</th>\n",
              "      <th id=\"T_8aeff_level0_col4\" class=\"col_heading level0 col4\" >sports</th>\n",
              "      <th id=\"T_8aeff_level0_col5\" class=\"col_heading level0 col5\" >ball</th>\n",
              "    </tr>\n",
              "  </thead>\n",
              "  <tbody>\n",
              "    <tr>\n",
              "      <th id=\"T_8aeff_level0_row0\" class=\"row_heading level0 row0\" >king</th>\n",
              "      <td id=\"T_8aeff_row0_col0\" class=\"data row0 col0\" >0.000000</td>\n",
              "      <td id=\"T_8aeff_row0_col1\" class=\"data row0 col1\" >0.660637</td>\n",
              "      <td id=\"T_8aeff_row0_col2\" class=\"data row0 col2\" >0.408935</td>\n",
              "      <td id=\"T_8aeff_row0_col3\" class=\"data row0 col3\" >0.344757</td>\n",
              "      <td id=\"T_8aeff_row0_col4\" class=\"data row0 col4\" >0.406180</td>\n",
              "      <td id=\"T_8aeff_row0_col5\" class=\"data row0 col5\" >0.264930</td>\n",
              "    </tr>\n",
              "    <tr>\n",
              "      <th id=\"T_8aeff_level0_row1\" class=\"row_heading level0 row1\" >castle</th>\n",
              "      <td id=\"T_8aeff_row1_col0\" class=\"data row1 col0\" >0.660637</td>\n",
              "      <td id=\"T_8aeff_row1_col1\" class=\"data row1 col1\" >0.000000</td>\n",
              "      <td id=\"T_8aeff_row1_col2\" class=\"data row1 col2\" >0.425002</td>\n",
              "      <td id=\"T_8aeff_row1_col3\" class=\"data row1 col3\" >0.284593</td>\n",
              "      <td id=\"T_8aeff_row1_col4\" class=\"data row1 col4\" >0.399603</td>\n",
              "      <td id=\"T_8aeff_row1_col5\" class=\"data row1 col5\" >0.275352</td>\n",
              "    </tr>\n",
              "    <tr>\n",
              "      <th id=\"T_8aeff_level0_row2\" class=\"row_heading level0 row2\" >family</th>\n",
              "      <td id=\"T_8aeff_row2_col0\" class=\"data row2 col0\" >0.408935</td>\n",
              "      <td id=\"T_8aeff_row2_col1\" class=\"data row2 col1\" >0.425002</td>\n",
              "      <td id=\"T_8aeff_row2_col2\" class=\"data row2 col2\" >0.000000</td>\n",
              "      <td id=\"T_8aeff_row2_col3\" class=\"data row2 col3\" >0.531065</td>\n",
              "      <td id=\"T_8aeff_row2_col4\" class=\"data row2 col4\" >0.408790</td>\n",
              "      <td id=\"T_8aeff_row2_col5\" class=\"data row2 col5\" >0.305204</td>\n",
              "    </tr>\n",
              "    <tr>\n",
              "      <th id=\"T_8aeff_level0_row3\" class=\"row_heading level0 row3\" >kids</th>\n",
              "      <td id=\"T_8aeff_row3_col0\" class=\"data row3 col0\" >0.344757</td>\n",
              "      <td id=\"T_8aeff_row3_col1\" class=\"data row3 col1\" >0.284593</td>\n",
              "      <td id=\"T_8aeff_row3_col2\" class=\"data row3 col2\" >0.531065</td>\n",
              "      <td id=\"T_8aeff_row3_col3\" class=\"data row3 col3\" >0.000000</td>\n",
              "      <td id=\"T_8aeff_row3_col4\" class=\"data row3 col4\" >0.347228</td>\n",
              "      <td id=\"T_8aeff_row3_col5\" class=\"data row3 col5\" >0.186235</td>\n",
              "    </tr>\n",
              "    <tr>\n",
              "      <th id=\"T_8aeff_level0_row4\" class=\"row_heading level0 row4\" >sports</th>\n",
              "      <td id=\"T_8aeff_row4_col0\" class=\"data row4 col0\" >0.406180</td>\n",
              "      <td id=\"T_8aeff_row4_col1\" class=\"data row4 col1\" >0.399603</td>\n",
              "      <td id=\"T_8aeff_row4_col2\" class=\"data row4 col2\" >0.408790</td>\n",
              "      <td id=\"T_8aeff_row4_col3\" class=\"data row4 col3\" >0.347228</td>\n",
              "      <td id=\"T_8aeff_row4_col4\" class=\"data row4 col4\" >0.000000</td>\n",
              "      <td id=\"T_8aeff_row4_col5\" class=\"data row4 col5\" >0.597113</td>\n",
              "    </tr>\n",
              "    <tr>\n",
              "      <th id=\"T_8aeff_level0_row5\" class=\"row_heading level0 row5\" >ball</th>\n",
              "      <td id=\"T_8aeff_row5_col0\" class=\"data row5 col0\" >0.264930</td>\n",
              "      <td id=\"T_8aeff_row5_col1\" class=\"data row5 col1\" >0.275352</td>\n",
              "      <td id=\"T_8aeff_row5_col2\" class=\"data row5 col2\" >0.305204</td>\n",
              "      <td id=\"T_8aeff_row5_col3\" class=\"data row5 col3\" >0.186235</td>\n",
              "      <td id=\"T_8aeff_row5_col4\" class=\"data row5 col4\" >0.597113</td>\n",
              "      <td id=\"T_8aeff_row5_col5\" class=\"data row5 col5\" >0.000000</td>\n",
              "    </tr>\n",
              "  </tbody>\n",
              "</table>\n"
            ]
          },
          "metadata": {},
          "execution_count": 30
        }
      ]
    }
  ]
}